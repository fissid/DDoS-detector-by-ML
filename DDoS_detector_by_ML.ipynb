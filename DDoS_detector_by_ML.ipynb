{
  "nbformat": 4,
  "nbformat_minor": 0,
  "metadata": {
    "colab": {
      "provenance": []
    },
    "kernelspec": {
      "name": "python3",
      "display_name": "Python 3"
    },
    "language_info": {
      "name": "python"
    }
  },
  "cells": [
    {
      "cell_type": "code",
      "execution_count": null,
      "metadata": {
        "id": "u4v0NwADRdYJ"
      },
      "outputs": [],
      "source": [
        "import pandas as pd \n",
        "import numpy as np\n",
        "from google.colab import data_table\n",
        "from sklearn.linear_model import LogisticRegression\n",
        "from sklearn.svm import SVC\n",
        "from sklearn.preprocessing import MinMaxScaler\n",
        "from sklearn.ensemble import RandomForestClassifier\n",
        "from sklearn.model_selection import train_test_split, StratifiedKFold\n",
        "from sklearn.model_selection import cross_val_score, cross_val_predict\n",
        "from sklearn.metrics import precision_score, recall_score, f1_score, confusion_matrix\n",
        "from mlxtend.plotting import plot_confusion_matrix\n",
        "import matplotlib.pyplot as plt"
      ]
    },
    {
      "cell_type": "code",
      "source": [
        "def visual(inp):\n",
        "  data_table.DataTable.max_columns=100\n",
        "  return data_table.DataTable(inp)"
      ],
      "metadata": {
        "id": "GpUYRrWgTbQr"
      },
      "execution_count": null,
      "outputs": []
    },
    {
      "cell_type": "code",
      "source": [
        "df=pd.read_csv(\"/content/Friday-WorkingHours-Afternoon-DDos.pcap_ISCX.csv\",low_memory=False)\n",
        "df.shape"
      ],
      "metadata": {
        "colab": {
          "base_uri": "https://localhost:8080/"
        },
        "id": "O4xjrknzSzJL",
        "outputId": "4cacfffb-12cd-477e-a483-de0da23695f5"
      },
      "execution_count": null,
      "outputs": [
        {
          "output_type": "execute_result",
          "data": {
            "text/plain": [
              "(13434, 79)"
            ]
          },
          "metadata": {},
          "execution_count": 5
        }
      ]
    },
    {
      "cell_type": "code",
      "source": [
        "print(df.isnull().sum(axis=0).sort_values(ascending=False))"
      ],
      "metadata": {
        "id": "h8uGb3CxTYp0"
      },
      "execution_count": null,
      "outputs": []
    },
    {
      "cell_type": "code",
      "source": [
        "df.dropna(subset=['Flow Bytes/s'],inplace=True)"
      ],
      "metadata": {
        "id": "jhAoRXMoTlTr"
      },
      "execution_count": null,
      "outputs": []
    },
    {
      "cell_type": "code",
      "source": [
        "print(df.isnull().sum(axis=0).sort_values(ascending=False))"
      ],
      "metadata": {
        "id": "v7yPqThSTqSa"
      },
      "execution_count": null,
      "outputs": []
    },
    {
      "cell_type": "code",
      "source": [
        "label_uniques=df[\" Label\"].unique()\n",
        "df[\" Label\"].value_counts(dropna=False)"
      ],
      "metadata": {
        "colab": {
          "base_uri": "https://localhost:8080/"
        },
        "id": "yET4j5oLTreD",
        "outputId": "a7dd2209-d8a1-4553-b924-c02240d03ca3"
      },
      "execution_count": null,
      "outputs": [
        {
          "output_type": "execute_result",
          "data": {
            "text/plain": [
              "DDoS      128027\n",
              "BENIGN     97714\n",
              "Name:  Label, dtype: int64"
            ]
          },
          "metadata": {},
          "execution_count": 72
        }
      ]
    },
    {
      "cell_type": "code",
      "source": [
        "non_numeric_label={\"BENIGN\":0,\"DDoS\":1}\n",
        "df[\" Label\"]=df[\" Label\"].map(non_numeric_label)"
      ],
      "metadata": {
        "id": "vmORclOZT8c1"
      },
      "execution_count": null,
      "outputs": []
    },
    {
      "cell_type": "code",
      "source": [
        "df[\" Label\"].value_counts(dropna=False)\n",
        "# 0 represent for no attack\n",
        "# 1 represents for DDoS attack"
      ],
      "metadata": {
        "colab": {
          "base_uri": "https://localhost:8080/"
        },
        "id": "YFZ3JGL-T_69",
        "outputId": "90fabc70-ec88-4107-94ea-f5cb06e29b22"
      },
      "execution_count": null,
      "outputs": [
        {
          "output_type": "execute_result",
          "data": {
            "text/plain": [
              "1    128027\n",
              "0     97714\n",
              "Name:  Label, dtype: int64"
            ]
          },
          "metadata": {},
          "execution_count": 74
        }
      ]
    },
    {
      "cell_type": "code",
      "source": [
        "visual(df.tail(5))"
      ],
      "metadata": {
        "id": "v7JSjx56UFiu"
      },
      "execution_count": null,
      "outputs": []
    },
    {
      "cell_type": "code",
      "source": [
        "df.describe()"
      ],
      "metadata": {
        "id": "MmGi_aM7iLaM"
      },
      "execution_count": null,
      "outputs": []
    },
    {
      "cell_type": "code",
      "source": [
        "# print(df[['Flow Bytes/s']].max())\n",
        "# print(df[[' Flow Packets/s']].max())\n",
        "df=df.drop('Flow Bytes/s',axis='columns')\n",
        "df=df.drop(' Flow Packets/s',axis='columns')\n",
        "# df=df.drop(' Flow Packets/s',axis='columns')"
      ],
      "metadata": {
        "id": "SEJNk9tFqYdI"
      },
      "execution_count": null,
      "outputs": []
    },
    {
      "cell_type": "code",
      "source": [
        "column_list=df.columns.tolist()\n",
        "column_list"
      ],
      "metadata": {
        "id": "Url8vGp3vJan"
      },
      "execution_count": null,
      "outputs": []
    },
    {
      "cell_type": "code",
      "source": [
        "scaler = MinMaxScaler(feature_range=(0, 1))\n",
        "for i in column_list:\n",
        "  try:\n",
        "    if (i== ' Destination Port'):\n",
        "      continue\n",
        "    else:\n",
        "      df[[f\"{i}\"]] = scaler.fit_transform(df[[f\"{i}\"]])\n",
        "  except ValueError:\n",
        "    continue"
      ],
      "metadata": {
        "id": "LwPi4cRYivfx"
      },
      "execution_count": null,
      "outputs": []
    },
    {
      "cell_type": "code",
      "source": [
        "df.describe()"
      ],
      "metadata": {
        "id": "PvBAI6HYgo7G"
      },
      "execution_count": null,
      "outputs": []
    },
    {
      "cell_type": "code",
      "source": [
        "df.info()"
      ],
      "metadata": {
        "id": "VDQd9Pheh24l"
      },
      "execution_count": null,
      "outputs": []
    },
    {
      "cell_type": "code",
      "source": [
        "df[' Label'] = df[' Label'].astype('int64')"
      ],
      "metadata": {
        "id": "Cz3k8e-hoZMO"
      },
      "execution_count": null,
      "outputs": []
    },
    {
      "cell_type": "code",
      "source": [
        "visual(df.describe())"
      ],
      "metadata": {
        "id": "ZUZ8lDIwv95A"
      },
      "execution_count": null,
      "outputs": []
    },
    {
      "cell_type": "code",
      "source": [
        "df.info()"
      ],
      "metadata": {
        "id": "v_ZwQJydwD9w"
      },
      "execution_count": null,
      "outputs": []
    },
    {
      "cell_type": "code",
      "source": [
        "friday=df.to_numpy()\n",
        "friday.shape"
      ],
      "metadata": {
        "colab": {
          "base_uri": "https://localhost:8080/"
        },
        "id": "gQRCyhOewHTO",
        "outputId": "118b4ae0-6346-4633-9021-12760b022ab3"
      },
      "execution_count": null,
      "outputs": [
        {
          "output_type": "execute_result",
          "data": {
            "text/plain": [
              "(225741, 77)"
            ]
          },
          "metadata": {},
          "execution_count": 78
        }
      ]
    },
    {
      "cell_type": "code",
      "source": [
        "n_samples, n_features= friday.shape\n",
        "n_features=n_features-1\n",
        "\n",
        "X=friday[:,0:n_features]\n",
        "Y=friday[:,n_features]\n",
        "feature_names=X[0,0:n_features]\n",
        "\n",
        "print(X.shape)\n",
        "print(Y.shape)"
      ],
      "metadata": {
        "colab": {
          "base_uri": "https://localhost:8080/"
        },
        "id": "4qPkvs0Nwik2",
        "outputId": "73f96c52-d840-4268-bee9-88a1e22d3228"
      },
      "execution_count": null,
      "outputs": [
        {
          "output_type": "stream",
          "name": "stdout",
          "text": [
            "(225741, 76)\n",
            "(225741,)\n"
          ]
        }
      ]
    },
    {
      "cell_type": "code",
      "source": [
        "folds=StratifiedKFold(n_splits=10)\n",
        "folds"
      ],
      "metadata": {
        "colab": {
          "base_uri": "https://localhost:8080/"
        },
        "id": "mOTGELJoyKf3",
        "outputId": "64cc8215-99ef-46c8-8d44-96572313110c"
      },
      "execution_count": null,
      "outputs": [
        {
          "output_type": "execute_result",
          "data": {
            "text/plain": [
              "StratifiedKFold(n_splits=10, random_state=None, shuffle=False)"
            ]
          },
          "metadata": {},
          "execution_count": 81
        }
      ]
    },
    {
      "cell_type": "code",
      "source": [
        "x_train, x_test, y_train, y_test=train_test_split(X,Y,train_size=0.3)"
      ],
      "metadata": {
        "id": "7zqOAY5TLliP"
      },
      "execution_count": null,
      "outputs": []
    },
    {
      "cell_type": "code",
      "source": [
        "def output(model, x_train,x_test,y_train,y_test):\n",
        "  y_pred = cross_val_predict(model, x_train, y_train, cv=2)\n",
        "  print(f\"Accuracy_score: {accuracy_score(y_pred,y_train)*100}\",)\n",
        "  print(f\"precision_score: {precision_score(y_train, y_pred)*100}\")\n",
        "  print(f\"recall_score: {recall_score(y_train, y_pred)*100}\")\n",
        "  print(f\"f1_score: {f1_score(y_train, y_pred)*100}\")\n",
        "  matrix=confusion_matrix(y_train, y_pred)\n",
        " \n",
        "  fig, ax = plot_confusion_matrix(conf_mat=matrix, figsize=(6, 6), cmap=plt.cm.Greens)\n",
        "  plt.xlabel('Predictions', fontsize=18)\n",
        "  plt.ylabel('Actuals', fontsize=18)\n",
        "  plt.title('Confusion Matrix', fontsize=18)\n",
        "  plt.show()"
      ],
      "metadata": {
        "id": "1uea1Iw4T4Lb"
      },
      "execution_count": null,
      "outputs": []
    },
    {
      "cell_type": "code",
      "source": [
        "output(LogisticRegression(solver='liblinear',multi_class='ovr'),x_train,x_test,y_train,y_test)"
      ],
      "metadata": {
        "colab": {
          "base_uri": "https://localhost:8080/",
          "height": 505
        },
        "id": "OPbxMaHlKviy",
        "outputId": "07e7b7e2-6ef3-4414-835a-f83df06843c5"
      },
      "execution_count": null,
      "outputs": [
        {
          "output_type": "stream",
          "name": "stdout",
          "text": [
            "Accuracy_score: 88.28888692005552\n",
            "precision_score: 82.92719679683127\n",
            "recall_score: 100.0\n",
            "f1_score: 90.66688633394918\n"
          ]
        },
        {
          "output_type": "display_data",
          "data": {
            "text/plain": [
              "<Figure size 432x432 with 1 Axes>"
            ],
            "image/png": "[encoded data removed]"
          },
          "metadata": {
            "needs_background": "light"
          }
        }
      ]
    },
    {
      "cell_type": "code",
      "source": [
        "output(RandomForestClassifier(n_estimators=15),x_train,x_test,y_train,y_test)"
      ],
      "metadata": {
        "colab": {
          "base_uri": "https://localhost:8080/",
          "height": 505
        },
        "id": "jCt0Ohz-PP7b",
        "outputId": "bf486904-c06c-4c4a-e4e1-139a83d5eadc"
      },
      "execution_count": null,
      "outputs": [
        {
          "output_type": "stream",
          "name": "stdout",
          "text": [
            "Accuracy_score: 99.96456099937981\n",
            "precision_score: 99.98961227828707\n",
            "recall_score: 99.94808296342444\n",
            "f1_score: 99.96884330780215\n"
          ]
        },
        {
          "output_type": "display_data",
          "data": {
            "text/plain": [
              "<Figure size 432x432 with 1 Axes>"
            ],
            "image/png": "[encoded data removed]"
          },
          "metadata": {
            "needs_background": "light"
          }
        }
      ]
    },
    {
      "cell_type": "code",
      "source": [
        "output(RandomForestClassifier(n_estimators=30),x_train,x_test,y_train,y_test)"
      ],
      "metadata": {
        "colab": {
          "base_uri": "https://localhost:8080/",
          "height": 505
        },
        "id": "dGJYiU1uZleu",
        "outputId": "27dcc90c-8f1d-4585-93a4-9ef9caf1649b"
      },
      "execution_count": null,
      "outputs": [
        {
          "output_type": "stream",
          "name": "stdout",
          "text": [
            "Accuracy_score: 99.96160774932814\n",
            "precision_score: 99.9922083993455\n",
            "recall_score: 99.94029540793812\n",
            "f1_score: 99.96624516397061\n"
          ]
        },
        {
          "output_type": "display_data",
          "data": {
            "text/plain": [
              "<Figure size 432x432 with 1 Axes>"
            ],
            "image/png": "[encoded data removed]"
          },
          "metadata": {
            "needs_background": "light"
          }
        }
      ]
    },
    {
      "cell_type": "code",
      "source": [
        "output(RandomForestClassifier(n_estimators=60),x_train,x_test,y_train,y_test)"
      ],
      "metadata": {
        "colab": {
          "base_uri": "https://localhost:8080/",
          "height": 505
        },
        "id": "hElhJ6sbZoxa",
        "outputId": "43ee7fdf-7436-4a71-d26c-794372c8b9e2"
      },
      "execution_count": null,
      "outputs": [
        {
          "output_type": "stream",
          "name": "stdout",
          "text": [
            "Accuracy_score: 99.97194412450902\n",
            "precision_score: 99.99740300212953\n",
            "recall_score: 99.953274667082\n",
            "f1_score: 99.97533396513002\n"
          ]
        },
        {
          "output_type": "display_data",
          "data": {
            "text/plain": [
              "<Figure size 432x432 with 1 Axes>"
            ],
            "image/png": "[encoded data removed]"
          },
          "metadata": {
            "needs_background": "light"
          }
        }
      ]
    },
    {
      "cell_type": "code",
      "source": [
        "output(SVC(gamma='auto'),x_train,x_test,y_train,y_test)"
      ],
      "metadata": {
        "colab": {
          "base_uri": "https://localhost:8080/"
        },
        "id": "-RwjsNjqZshK",
        "outputId": "5e694ad3-2c12-4aeb-b35e-c50911b279db"
      },
      "execution_count": null,
      "outputs": [
        {
          "output_type": "stream",
          "name": "stdout",
          "text": [
            "Accuracy_score: 99.322229113139\n",
            "precision_score: 98.84508777332923\n",
            "recall_score: 99.97663733354099\n",
            "f1_score: 99.40764257230245\n"
          ]
        }
      ]
    },
    {
      "cell_type": "code",
      "source": [
        "from sklearn import tree\n",
        "output(tree.DecisionTreeClassifier(),x_train,x_test,y_train,y_test)"
      ],
      "metadata": {
        "colab": {
          "base_uri": "https://localhost:8080/"
        },
        "id": "bGLm-R4KarO6",
        "outputId": "d33bf2e9-1136-4baf-eea8-dbf67e796609"
      },
      "execution_count": null,
      "outputs": [
        {
          "output_type": "stream",
          "name": "stdout",
          "text": [
            "Accuracy_score: 99.95570124922477\n",
            "precision_score: 99.96625042186973\n",
            "recall_score: 99.95587051891079\n",
            "f1_score: 99.96106020092937\n"
          ]
        }
      ]
    },
    {
      "cell_type": "code",
      "source": [
        "from sklearn.naive_bayes import GaussianNB\n",
        "output(GaussianNB(),x_train,x_test,y_train,y_test)"
      ],
      "metadata": {
        "colab": {
          "base_uri": "https://localhost:8080/"
        },
        "id": "HsrwFaZba2L1",
        "outputId": "573d5d8c-6450-46d1-faac-c02bb19dac02"
      },
      "execution_count": null,
      "outputs": [
        {
          "output_type": "stream",
          "name": "stdout",
          "text": [
            "Accuracy_score: 96.13419568234842\n",
            "precision_score: 93.63651831506283\n",
            "recall_score: 100.0\n",
            "f1_score: 96.71369752962443\n"
          ]
        }
      ]
    },
    {
      "cell_type": "code",
      "source": [
        "from sklearn.neighbors import KNeighborsClassifier\n",
        "output(KNeighborsClassifier(n_neighbors = 1),x_train,x_test,y_train,y_test)"
      ],
      "metadata": {
        "colab": {
          "base_uri": "https://localhost:8080/"
        },
        "id": "artHDFpcbGg2",
        "outputId": "a34b6428-f601-4738-b23e-3c497c7c80dd"
      },
      "execution_count": null,
      "outputs": [
        {
          "output_type": "stream",
          "name": "stdout",
          "text": [
            "Accuracy_score: 99.9822804996899\n",
            "precision_score: 99.98182998053213\n",
            "recall_score: 99.98702074085611\n",
            "f1_score: 99.98442529332364\n"
          ]
        }
      ]
    },
    {
      "cell_type": "code",
      "source": [],
      "metadata": {
        "id": "tG-xE9nVbjk5"
      },
      "execution_count": null,
      "outputs": []
    }
  ]
}